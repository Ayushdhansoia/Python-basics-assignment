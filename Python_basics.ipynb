{
  "nbformat": 4,
  "nbformat_minor": 0,
  "metadata": {
    "colab": {
      "provenance": []
    },
    "kernelspec": {
      "name": "python3",
      "display_name": "Python 3"
    },
    "language_info": {
      "name": "python"
    }
  },
  "cells": [
    {
      "cell_type": "markdown",
      "source": [
        "**Python Basics Questions**\n",
        "\n",
        "Q.1 What is python, and why is it popular?\n",
        "\n",
        "Ans - Python is a high-level, interpreted programming language known for its readability, simplicity, and versatility. It supports multiple programming paradigms, including procedural, object-oriented, and functional programming. Python is popular because of its extensive standard library, ease of use, and broad community support. It is commonly used for web development, data science, automation, machine learning, artificial intelligence, and more.\n",
        "\n",
        "\n",
        "Q.2 What is an interpreter in Python?\n",
        "\n",
        "Ans - An interpreter in Python is a program that reads and executes Python code line by line. Unlike a compiler, which translates the entire code into machine language before execution, an interpreter directly executes the source code, which makes debugging easier. Python uses an interpreter to execute its code, which means you can run the code interactively and immediately see the output.\n",
        "\n",
        "Q.3 What are pre-defined keywords in Python?\n",
        "\n",
        "Ans - Pre-defined keywords in Python are reserved words that have a specific meaning and cannot be used as identifiers (e.g., variable names, function names). These keywords are part of the Python syntax and serve to define the structure of the language.\n",
        "\n",
        "Q.4 Can keywords be used as variable names?\n",
        "\n",
        "Ans- No, keywords cannot be used as variable names in Python. Since keywords have a special meaning in the language, using them as variable names would cause syntax errors.\n",
        "\n",
        "Q.5 What is mutability in Python?\n",
        "\n",
        "Ans - Mutability refers to the ability of an object to be changed or modified after it is created. In Python, some objects are mutable, meaning their state or content can be modified, while others are immutable, meaning their state cannot be changed once they are created.\n",
        "\n",
        "Q.6 Why are lists mutable, but tuples are immutable?\n",
        "\n",
        "Ans - Lists are mutable because they are designed to allow dynamic changes to their elements, such as adding, removing, or modifying elements. Tuples, on the other hand, are immutable because they are intended to be used as fixed collections of items. Their immutability provides advantages like safety and performance in cases where the collection should not be modified.\n",
        "\n",
        "Q.7 What is the difference between “==” and “is” operators in Python?\n",
        "\n",
        "Ans - 1) == is the equality operator, which checks whether the values of two objects are equal.\n",
        "2) is is the identity operator, which checks whether two objects refer to the same memory location, i.e., whether they are the exact same object.\n",
        "\n",
        "Q.8 What are logical operators in Python?\n",
        "\n",
        "Ans - 1) and: Returns True if both conditions are true.\n",
        "\n",
        "2) or: Returns True if at least one condition is true.\n",
        "\n",
        "3) not: Reverses the logical state of its operand, returning True if the operand is False and vice versa.\n",
        "\n",
        "Q.9 What is type casting in Python?\n",
        "\n",
        "Ans - Type casting in Python is the process of converting a value from one data type to another. This is often necessary when performing operations between different types of data. Python provides built-in functions like int(), float(), str(), etc., to convert between types.\n",
        "\n",
        "Q.10 What is the difference between implicit and explicit type casting?\n",
        "\n",
        "Ans - Implicit type casting (also known as type coercion) occurs when Python automatically converts a data type to another without explicit instruction, typically from a smaller type to a larger type but Explicit type casting occurs when the programmer manually converts a data type using casting functions like int(), float(), etc.\n",
        "\n",
        "Q.11 What is the purpose of conditional statements in Python?\n",
        "\n",
        "Ans - Conditional statements in Python, such as if, elif, and else, are used to execute certain blocks of code based on whether a condition is true or false. They allow for decision-making in the program, enabling different behavior under different circumstances.\n",
        "\n",
        "Q.12 How does the elif statement work?\n",
        "\n",
        "Ans - The elif (else-if) statement in Python is used to check multiple conditions. It allows for testing several conditions after an initial if condition, and if the if condition is false, it checks the elif conditions in order. If no if or elif condition is true, the else block is executed.\n",
        "\n",
        "Q.13 What is the difference between for and while loops?\n",
        "\n",
        "Ans-  1)  A for loop is used for iterating over a sequence (like a list, tuple, string, or range) and repeats the block of code for each item in the sequence.\n",
        "\n",
        "2) A while loop repeats a block of code as long as a specified condition is true.\n",
        "\n",
        "Q.14 Describe a scenario where a while loop is more suitable than a for loop.\n",
        "\n",
        "Ans - A while loop is more suitable when you do not know the number of iterations in advance and need to repeat an action until a condition is met. For example, when waiting for user input until they provide a valid response, or when processing data until a certain condition is met."
      ],
      "metadata": {
        "id": "0vX3joKP9wqW"
      }
    },
    {
      "cell_type": "markdown",
      "source": [
        "**Practical questions**\n"
      ],
      "metadata": {
        "id": "iZblHFhH9yHF"
      }
    },
    {
      "cell_type": "code",
      "source": [
        "print(\"Hello, World!\")"
      ],
      "metadata": {
        "colab": {
          "base_uri": "https://localhost:8080/"
        },
        "id": "slGcQl1LiW_z",
        "outputId": "7464e283-24b0-4f67-cce1-526f64137594"
      },
      "execution_count": 1,
      "outputs": [
        {
          "output_type": "stream",
          "name": "stdout",
          "text": [
            "Hello, World!\n"
          ]
        }
      ]
    },
    {
      "cell_type": "code",
      "source": [
        "name = \"John Doe\"  # Replace with your name\n",
        "age = 25  # Replace with your age\n",
        "print(f\"My name is {name} and I am {age} years old.\")"
      ],
      "metadata": {
        "colab": {
          "base_uri": "https://localhost:8080/"
        },
        "id": "IyIRbzd6itbK",
        "outputId": "7f1ae89e-cb7f-4283-a3f2-a8efa1bcfb6d"
      },
      "execution_count": 3,
      "outputs": [
        {
          "output_type": "stream",
          "name": "stdout",
          "text": [
            "My name is John Doe and I am 25 years old.\n"
          ]
        }
      ]
    },
    {
      "cell_type": "code",
      "source": [
        "import keyword\n",
        "print(keyword.kwlist)"
      ],
      "metadata": {
        "colab": {
          "base_uri": "https://localhost:8080/"
        },
        "id": "CfcgX-lLjB2N",
        "outputId": "d0a0265f-89a1-42aa-b3fa-fb1be4698b32"
      },
      "execution_count": 4,
      "outputs": [
        {
          "output_type": "stream",
          "name": "stdout",
          "text": [
            "['False', 'None', 'True', 'and', 'as', 'assert', 'async', 'await', 'break', 'class', 'continue', 'def', 'del', 'elif', 'else', 'except', 'finally', 'for', 'from', 'global', 'if', 'import', 'in', 'is', 'lambda', 'nonlocal', 'not', 'or', 'pass', 'raise', 'return', 'try', 'while', 'with', 'yield']\n"
          ]
        }
      ]
    },
    {
      "cell_type": "code",
      "source": [
        "import keyword\n",
        "\n",
        "word = input(\"Enter a word: \")\n",
        "\n",
        "if keyword.iskeyword(word):\n",
        "    print(f\"{word} is a Python keyword.\")\n",
        "else:\n",
        "    print(f\"{word} is not a Python keyword.\")"
      ],
      "metadata": {
        "id": "6_wIYMO8jMmJ"
      },
      "execution_count": null,
      "outputs": []
    },
    {
      "cell_type": "code",
      "source": [
        "# List (mutable)\n",
        "my_list = [1, 2, 3, 4]\n",
        "my_list[1] = 10  # Changing the second element\n",
        "print(\"Updated list:\", my_list)\n",
        "\n",
        "# Tuple (immutable)\n",
        "my_tuple = (1, 2, 3, 4)\n",
        "try:\n",
        "    my_tuple[1] = 10  # This will raise an error because tuples are immutable\n",
        "except TypeError as e:\n",
        "    print(\"Error:\", e)\n"
      ],
      "metadata": {
        "id": "i3W48rMvj8ps"
      },
      "execution_count": null,
      "outputs": []
    },
    {
      "cell_type": "code",
      "source": [
        "def demo_mutability(mutable_arg, immutable_arg):\n",
        "    # Modifying mutable argument\n",
        "    mutable_arg.append(10)\n",
        "\n",
        "    # Attempting to modify immutable argument (will raise an error)\n",
        "    try:\n",
        "        immutable_arg = 20\n",
        "    except TypeError as e:\n",
        "        print(\"Error when modifying immutable argument:\", e)\n",
        "\n",
        "    print(\"Mutable argument after modification:\", mutable_arg)\n",
        "    print(\"Immutable argument after modification:\", immutable_arg)\n",
        "\n",
        "# Example usage\n",
        "mutable_list = [1, 2, 3]\n",
        "immutable_var = 5\n",
        "demo_mutability(mutable_list, immutable_var)\n"
      ],
      "metadata": {
        "id": "4jh1iyzgkA1H"
      },
      "execution_count": null,
      "outputs": []
    },
    {
      "cell_type": "code",
      "source": [
        "def demo_mutability(mutable_arg, immutable_arg):\n",
        "    # Modifying mutable argument\n",
        "    mutable_arg.append(10)\n",
        "\n",
        "    # Attempting to modify immutable argument (will raise an error)\n",
        "    try:\n",
        "        immutable_arg = 20\n",
        "    except TypeError as e:\n",
        "        print(\"Error when modifying immutable argument:\", e)\n",
        "\n",
        "    print(\"Mutable argument after modification:\", mutable_arg)\n",
        "    print(\"Immutable argument after modification:\", immutable_arg)\n",
        "\n",
        "# Example usage\n",
        "mutable_list = [1, 2, 3]\n",
        "immutable_var = 5\n",
        "demo_mutability(mutable_list, immutable_var)\n"
      ],
      "metadata": {
        "id": "olrnxAY7kElO"
      },
      "execution_count": null,
      "outputs": []
    },
    {
      "cell_type": "code",
      "source": [
        "x = 10\n",
        "y = 20\n",
        "z = 5\n",
        "\n",
        "# Using and, or, not logical operators\n",
        "print(x < y and y > z)  # True, both conditions are true\n",
        "print(x > y or y < z)   # False, both conditions are false\n",
        "print(not(x > y))       # True, negating the condition x > y\n"
      ],
      "metadata": {
        "id": "U20zd_jdkIdI"
      },
      "execution_count": null,
      "outputs": []
    },
    {
      "cell_type": "code",
      "source": [
        "user_input = input(\"Enter something: \")\n",
        "\n",
        "# Convert to integer\n",
        "try:\n",
        "    int_input = int(user_input)\n",
        "    print(\"Integer:\", int_input)\n",
        "except ValueError:\n",
        "    print(\"Input is not an integer.\")\n",
        "\n",
        "# Convert to float\n",
        "try:\n",
        "    float_input = float(user_input)\n",
        "    print(\"Float:\", float_input)\n",
        "except ValueError:\n",
        "    print(\"Input is not a float.\")\n",
        "\n",
        "# Convert to boolean\n",
        "boolean_input = bool(user_input)\n",
        "print(\"Boolean:\", boolean_input)\n"
      ],
      "metadata": {
        "id": "52qvkkUMkJg1"
      },
      "execution_count": null,
      "outputs": []
    },
    {
      "cell_type": "code",
      "source": [
        "my_list = [\"1\", \"2\", \"3\", \"4\"]\n",
        "\n",
        "# Convert each element of the list from string to integer\n",
        "int_list = [int(x) for x in my_list]\n",
        "print(\"List with integers:\", int_list)\n",
        "\n",
        "# Convert each element of the list from string to float\n",
        "float_list = [float(x) for x in my_list]\n",
        "print(\"List with floats:\", float_list)\n"
      ],
      "metadata": {
        "id": "bYJRxf41kNMx"
      },
      "execution_count": null,
      "outputs": []
    },
    {
      "cell_type": "code",
      "source": [
        "number = float(input(\"Enter a number: \"))\n",
        "\n",
        "if number > 0:\n",
        "    print(\"The number is positive.\")\n",
        "elif number < 0:\n",
        "    print(\"The number is negative.\")\n",
        "else:\n",
        "    print(\"The number is zero.\")\n"
      ],
      "metadata": {
        "id": "IfBOetxskOz5"
      },
      "execution_count": null,
      "outputs": []
    },
    {
      "cell_type": "code",
      "source": [
        "for i in range(1, 101):\n",
        "    print(i)\n"
      ],
      "metadata": {
        "id": "mN3bkrMmkSLA"
      },
      "execution_count": null,
      "outputs": []
    },
    {
      "cell_type": "code",
      "source": [
        "sum_even = 0\n",
        "for i in range(1, 501):\n",
        "    if i % 2 == 0:\n",
        "        sum_even += i\n",
        "print(\"Sum of all even numbers between 1 and 500:\", sum_even)\n"
      ],
      "metadata": {
        "id": "RO2TRwyQkTl5"
      },
      "execution_count": null,
      "outputs": []
    },
    {
      "cell_type": "code",
      "source": [
        "string = input(\"Enter a string: \")\n",
        "reversed_string = \"\"\n",
        "index = len(string) - 1\n",
        "\n",
        "while index >= 0:\n",
        "    reversed_string += string[index]\n",
        "    index -= 1\n",
        "\n",
        "print(\"Reversed string:\", reversed_string)\n"
      ],
      "metadata": {
        "id": "cvqkP7TEkVJn"
      },
      "execution_count": null,
      "outputs": []
    },
    {
      "cell_type": "code",
      "source": [
        "number = int(input(\"Enter a number: \"))\n",
        "factorial = 1\n",
        "while number > 1:\n",
        "    factorial *= number\n",
        "    number -= 1\n",
        "\n",
        "print(\"Factorial:\", factorial)\n"
      ],
      "metadata": {
        "id": "JypNolinkXNG"
      },
      "execution_count": null,
      "outputs": []
    }
  ]
}